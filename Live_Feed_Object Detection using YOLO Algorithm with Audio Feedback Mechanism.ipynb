{
 "cells": [
  {
   "cell_type": "code",
   "execution_count": null,
   "id": "c26c26fe",
   "metadata": {},
   "outputs": [],
   "source": [
    "!pip install opencv-python"
   ]
  },
  {
   "cell_type": "code",
   "execution_count": null,
   "id": "fb5b8d3d",
   "metadata": {},
   "outputs": [],
   "source": [
    "!pip install pyttsx3"
   ]
  },
  {
   "cell_type": "code",
   "execution_count": 1,
   "id": "e69fc15e",
   "metadata": {},
   "outputs": [],
   "source": [
    "# Importing Libraries\n",
    "import cv2\n",
    "import numpy as np\n",
    "import pyttsx3"
   ]
  },
  {
   "cell_type": "code",
   "execution_count": 2,
   "id": "d885e9c4",
   "metadata": {},
   "outputs": [],
   "source": [
    "# Initialize the text-to-speech engine\n",
    "engine = pyttsx3.init()"
   ]
  },
  {
   "cell_type": "code",
   "execution_count": 3,
   "id": "971b88d3",
   "metadata": {},
   "outputs": [],
   "source": [
    "# YOLO configuration\n",
    "yolo_config = \"yolov.cfg\"  "
   ]
  },
  {
   "cell_type": "code",
   "execution_count": 4,
   "id": "204f5373",
   "metadata": {},
   "outputs": [],
   "source": [
    "yolo_weights = \"yolov.weights\"  "
   ]
  },
  {
   "cell_type": "code",
   "execution_count": 5,
   "id": "d1014d08",
   "metadata": {},
   "outputs": [],
   "source": [
    "yolo_classes = \"coco.names\"  "
   ]
  },
  {
   "cell_type": "code",
   "execution_count": 6,
   "id": "6825a16f",
   "metadata": {},
   "outputs": [],
   "source": [
    "# Load YOLO network\n",
    "net = cv2.dnn.readNet(yolo_weights, yolo_config)"
   ]
  },
  {
   "cell_type": "code",
   "execution_count": 7,
   "id": "f7d8b581",
   "metadata": {},
   "outputs": [],
   "source": [
    "# Load YOLO classes\n",
    "with open(yolo_classes, \"r\") as f:\n",
    "    classes = [line.strip() for line in f.readlines()]"
   ]
  },
  {
   "cell_type": "code",
   "execution_count": 8,
   "id": "dc8d53de",
   "metadata": {},
   "outputs": [],
   "source": [
    "# Initialize the video capture\n",
    "cap = cv2.VideoCapture(0)  # Use 0 for default camera"
   ]
  },
  {
   "cell_type": "code",
   "execution_count": null,
   "id": "29c15a4f",
   "metadata": {},
   "outputs": [],
   "source": [
    "while True:\n",
    "    # Read a frame from the camera\n",
    "    ret, frame = cap.read()\n",
    "\n",
    "    # YOLO object detection\n",
    "    height, width, _ = frame.shape\n",
    "    blob = cv2.dnn.blobFromImage(frame, 0.00392, (416, 416), (0, 0, 0), True, crop=False)\n",
    "    net.setInput(blob)\n",
    "    outs = net.forward(net.getUnconnectedOutLayersNames())\n",
    "    \n",
    "    # Process YOLO results\n",
    "    class_ids = []\n",
    "    confidences = []\n",
    "    boxes = []\n",
    "    for out in outs:\n",
    "        for detection in out:\n",
    "            scores = detection[5:]\n",
    "            class_id = np.argmax(scores)\n",
    "            confidence = scores[class_id]\n",
    "            if confidence > 0.5:\n",
    "                center_x = int(detection[0] * width)\n",
    "                center_y = int(detection[1] * height)\n",
    "                w = int(detection[2] * width)\n",
    "                h = int(detection[3] * height)\n",
    "                x = int(center_x - w / 2)\n",
    "                y = int(center_y - h / 2)\n",
    "                boxes.append([x, y, w, h])\n",
    "                confidences.append(float(confidence))\n",
    "                class_ids.append(class_id)\n",
    "\n",
    "    indexes = cv2.dnn.NMSBoxes(boxes, confidences, 0.5, 0.4)\n",
    "\n",
    "    # Voice feedback\n",
    "    feedback_text = \"\"\n",
    "    for i in range(len(boxes)):\n",
    "        if i in indexes:\n",
    "            label = str(classes[class_ids[i]])\n",
    "            confidence = confidences[i]\n",
    "            feedback_text += f\"{label}: {confidence:.2f}\\n\"\n",
    "\n",
    "    # Display bounding boxes on the frame\n",
    "    for i in range(len(boxes)):\n",
    "        if i in indexes:\n",
    "            x, y, w, h = boxes[i]\n",
    "            label = str(classes[class_ids[i]])\n",
    "            confidence = confidences[i]\n",
    "            color = (0, 255, 0)\n",
    "            cv2.rectangle(frame, (x, y), (x + w, y + h), color, 2)\n",
    "            cv2.putText(frame, f\"{label}: {confidence:.2f}\", (x, y - 10), cv2.FONT_HERSHEY_SIMPLEX, 0.5, color, 2)\n",
    "\n",
    "    # Display the frame\n",
    "    cv2.imshow(\"Live Feed Object Detection using YOLO Algorithm with Audio Feedback Mechanism\", frame)\n",
    "\n",
    "    # Speak the feedback\n",
    "    engine.say(feedback_text)\n",
    "    engine.runAndWait()\n",
    "\n",
    "    # Break the loop if 'q' key is pressed\n",
    "    if cv2.waitKey(1) & 0xFF == ord('q'):\n",
    "        break"
   ]
  },
  {
   "cell_type": "code",
   "execution_count": null,
   "id": "f7ed97b7",
   "metadata": {},
   "outputs": [],
   "source": [
    "# Release the video capture and close all windows\n",
    "cap.release()\n",
    "cv2.destroyAllWindows()"
   ]
  },
  {
   "cell_type": "code",
   "execution_count": null,
   "id": "24948875",
   "metadata": {},
   "outputs": [],
   "source": []
  },
  {
   "cell_type": "code",
   "execution_count": null,
   "id": "42c36bf6",
   "metadata": {},
   "outputs": [],
   "source": []
  },
  {
   "cell_type": "code",
   "execution_count": null,
   "id": "97458837",
   "metadata": {},
   "outputs": [],
   "source": []
  },
  {
   "cell_type": "code",
   "execution_count": null,
   "id": "d69d3331",
   "metadata": {},
   "outputs": [],
   "source": []
  }
 ],
 "metadata": {
  "kernelspec": {
   "display_name": "Python 3 (ipykernel)",
   "language": "python",
   "name": "python3"
  },
  "language_info": {
   "codemirror_mode": {
    "name": "ipython",
    "version": 3
   },
   "file_extension": ".py",
   "mimetype": "text/x-python",
   "name": "python",
   "nbconvert_exporter": "python",
   "pygments_lexer": "ipython3",
   "version": "3.11.5"
  }
 },
 "nbformat": 4,
 "nbformat_minor": 5
}
